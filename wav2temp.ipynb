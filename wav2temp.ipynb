{
 "cells": [
  {
   "cell_type": "code",
   "execution_count": 1,
   "metadata": {
    "colab": {},
    "colab_type": "code",
    "id": "i8RVimGa-Od9"
   },
   "outputs": [],
   "source": [
    "# !git clone https://github.com/zacstewart/apt-decoder\n",
    "# !python3 /content/apt-decoder/resample.py \"/content/drive/My Drive/Lab/19000020.WAV\" out.wav\n",
    "# !python3 /content/apt-decoder/apt.py out.wav out.png"
   ]
  },
  {
   "cell_type": "code",
   "execution_count": 2,
   "metadata": {
    "colab": {},
    "colab_type": "code",
    "id": "cF7hTPu0T7Be"
   },
   "outputs": [],
   "source": [
    "import scipy.io.wavfile\n",
    "import scipy.signal\n",
    "import PIL\n",
    "import numpy as np"
   ]
  },
  {
   "cell_type": "code",
   "execution_count": 3,
   "metadata": {
    "colab": {},
    "colab_type": "code",
    "id": "Ylt8ykagUZEP"
   },
   "outputs": [],
   "source": [
    "class APT(object):\n",
    "\n",
    "    RATE = 20800\n",
    "    NOAA_LINE_LENGTH = 2080\n",
    "\n",
    "    def __init__(self, filename):\n",
    "        (rate, self.signal) = scipy.io.wavfile.read(filename)\n",
    "        if rate != self.RATE:\n",
    "            coef = self.RATE / rate\n",
    "            samples = int(coef * len(self.signal))\n",
    "            self.signal = scipy.signal.resample(self.signal, samples)\n",
    "            \n",
    "        # Keep only one channel if audio is stereo\n",
    "        if self.signal.ndim > 1:\n",
    "            self.signal = self.signal[:, 0]\n",
    "\n",
    "        truncate = self.RATE * int(len(self.signal) // self.RATE)\n",
    "        self.signal = self.signal[:truncate]\n",
    "\n",
    "    def decode(self, outfile=None):\n",
    "        hilbert = scipy.signal.hilbert(self.signal)\n",
    "        filtered = scipy.signal.medfilt(np.abs(hilbert), 5)\n",
    "        reshaped = filtered.reshape(len(filtered) // 5, 5)\n",
    "        digitized = self._digitize(reshaped[:, 2])\n",
    "        matrix = self._reshape(digitized)\n",
    "        image = PIL.Image.fromarray(matrix)\n",
    "        if not outfile is None:\n",
    "            image.save(outfile)\n",
    "        image.show()\n",
    "        return matrix\n",
    "\n",
    "    def _digitize(self, signal, plow=0.5, phigh=99.5):\n",
    "        '''\n",
    "        Convert signal to numbers between 0 and 255.\n",
    "        '''\n",
    "        (low, high) = np.percentile(signal, (plow, phigh))\n",
    "        delta = high - low\n",
    "        data = np.round(255 * (signal - low) / delta)\n",
    "        data[data < 0] = 0\n",
    "        data[data > 255] = 255\n",
    "        return data.astype(np.uint8)\n",
    "\n",
    "    def _reshape(self, signal):\n",
    "        '''\n",
    "        Find sync frames and reshape the 1D signal into a 2D image.\n",
    "\n",
    "        Finds the sync A frame by looking at the maximum values of the cross\n",
    "        correlation between the signal and a hardcoded sync A frame.\n",
    "\n",
    "        The expected distance between sync A frames is 2080 samples, but with\n",
    "        small variations because of Doppler effect.\n",
    "        '''\n",
    "        # sync frame to find: seven impulses and some black pixels (some lines\n",
    "        # have something like 8 black pixels and then white ones)\n",
    "        syncA = [0, 128, 255, 128]*7 + [0]*7\n",
    "\n",
    "        # list of maximum correlations found: (index, value)\n",
    "        peaks = [(0, 0)]\n",
    "\n",
    "        # minimum distance between peaks\n",
    "        mindistance = 2000\n",
    "\n",
    "        # need to shift the values down to get meaningful correlation values\n",
    "        signalshifted = [x-128 for x in signal]\n",
    "        syncA = [x-128 for x in syncA]\n",
    "        for i in range(len(signal)-len(syncA)):\n",
    "            corr = np.dot(syncA, signalshifted[i : i+len(syncA)])\n",
    "\n",
    "            # if previous peak is too far, keep it and add this value to the\n",
    "            # list as a new peak\n",
    "            if i - peaks[-1][0] > mindistance:\n",
    "                peaks.append((i, corr))\n",
    "\n",
    "            # else if this value is bigger than the previous maximum, set this\n",
    "            # one\n",
    "            elif corr > peaks[-1][1]:\n",
    "                peaks[-1] = (i, corr)\n",
    "\n",
    "        # create image matrix starting each line on the peaks found\n",
    "        matrix = []\n",
    "        for i in range(len(peaks) - 1):\n",
    "            matrix.append(signal[peaks[i][0] : peaks[i][0] + 2080])\n",
    "\n",
    "        return np.array(matrix)\n"
   ]
  },
  {
   "cell_type": "code",
   "execution_count": 4,
   "metadata": {
    "colab": {
     "base_uri": "https://localhost:8080/",
     "height": 71
    },
    "colab_type": "code",
    "id": "1Q0Wls1OUpby",
    "outputId": "4044271d-b213-4d64-f431-85f1119cc704"
   },
   "outputs": [
    {
     "name": "stderr",
     "output_type": "stream",
     "text": [
      "/usr/local/lib/python3.6/dist-packages/ipykernel_launcher.py:7: WavFileWarning: Reached EOF prematurely; finished at 14860332 bytes, expected 14860337 bytes from header.\n",
      "  import sys\n"
     ]
    }
   ],
   "source": [
    "apt = APT('/content/drive/My Drive/Lab/19000020.WAV')"
   ]
  },
  {
   "cell_type": "code",
   "execution_count": 5,
   "metadata": {
    "colab": {},
    "colab_type": "code",
    "id": "h_yfFeT_U1bg"
   },
   "outputs": [],
   "source": [
    "image = apt.decode('data.png')"
   ]
  },
  {
   "cell_type": "code",
   "execution_count": 6,
   "metadata": {
    "colab": {},
    "colab_type": "code",
    "id": "C10SpX93u8sE"
   },
   "outputs": [],
   "source": [
    "n = 286\n",
    "scale = image[n:n + 8*16, 2040:2075]\n",
    "scale_image = PIL.Image.fromarray(scale)\n",
    "scale_image.save('out.png')"
   ]
  },
  {
   "cell_type": "code",
   "execution_count": 25,
   "metadata": {
    "colab": {
     "base_uri": "https://localhost:8080/",
     "height": 119
    },
    "colab_type": "code",
    "id": "FcBsHe-3vk9K",
    "outputId": "efa95707-bcbb-4017-cee7-354a070065a8"
   },
   "outputs": [
    {
     "name": "stdout",
     "output_type": "stream",
     "text": [
      "Канал 4\n",
      "Значения градуировочной шкалы:\n",
      " [ 52.32857143  97.825      138.47142857 174.21071429 203.65357143\n",
      " 230.22142857 247.775      252.53571429  10.61428571  96.49642857\n",
      " 100.04285714  97.18928571 100.12142857 173.92857143 167.01428571\n",
      " 178.83214286]\n"
     ]
    }
   ],
   "source": [
    "scale1 = scale.mean(axis=1)\n",
    "scale_array = scale1.reshape(-1, 8).mean(axis=1)\n",
    "\n",
    "channel = np.argmin(np.abs(scale_array[:8] - scale_array[-1]))\n",
    "print('Канал', channel+1)\n",
    "print('Значения градуировочной шкалы:\\n', scale_array)"
   ]
  },
  {
   "cell_type": "code",
   "execution_count": 9,
   "metadata": {
    "colab": {
     "base_uri": "https://localhost:8080/",
     "height": 68
    },
    "colab_type": "code",
    "id": "3iDMZ1slxMoj",
    "outputId": "f826fdbf-1bd3-4add-ee4c-ba2726661bc9"
   },
   "outputs": [
    {
     "data": {
      "text/plain": [
       "(167.0142857142857,\n",
       " 98.46249999999999,\n",
       " array([ 96.49642857, 100.04285714,  97.18928571, 100.12142857]))"
      ]
     },
     "execution_count": 9,
     "metadata": {
      "tags": []
     },
     "output_type": "execute_result"
    }
   ],
   "source": [
    "P_bbs = scale_array[9:13]\n",
    "P_s = scale_array[14]\n",
    "P_bb = P_bbs.mean()\n",
    "\n",
    "P_s, P_bb, P_bbs"
   ]
  },
  {
   "cell_type": "code",
   "execution_count": 10,
   "metadata": {
    "colab": {
     "base_uri": "https://localhost:8080/",
     "height": 34
    },
    "colab_type": "code",
    "id": "UJNGD3lXzfUE",
    "outputId": "376945f7-24a4-419e-b3dd-81e99c2d876b"
   },
   "outputs": [
    {
     "name": "stdout",
     "output_type": "stream",
     "text": [
      "Температура платиновых полупроводников: 281.6621875167778 K\n"
     ]
    }
   ],
   "source": [
    "d_0 = [276.6067, 276.6119, 276.6311, 276.6268]\n",
    "d_1 = [0.051111, 0.051090, 0.051033, 0.051058]\n",
    "d_2 = [1.405783e-6, 1.496037e-6, 1.496990e-6, 1.493110e-6]\n",
    "\n",
    "T_bbs = d_0 + d_1 * P_bbs + d_2 * P_bbs**2\n",
    "T_bb = T_bbs.mean()\n",
    "print(f'Температура платиновых полупроводников: {T_bb} K')"
   ]
  },
  {
   "cell_type": "code",
   "execution_count": 11,
   "metadata": {
    "colab": {},
    "colab_type": "code",
    "id": "tcIvARreAN8Y"
   },
   "outputs": [],
   "source": [
    "A = [0, 0, 1.67396, 0.53959, 0.36064][channel]\n",
    "B = [0, 0, 0.997364, 0.998534, 0.998913][channel]\n",
    "c1 = 1.1910427e-5\n",
    "c2 = 1.4387752\n",
    "Vc = [0, 0, 2670, 928.9, 831.9][channel]\n",
    "\n",
    "T_bb_eff = A + B * T_bb\n",
    "N_bb = c1 * Vc**3 / (np.exp(c2 * Vc / T_bb_eff) - 1)"
   ]
  },
  {
   "cell_type": "code",
   "execution_count": 12,
   "metadata": {
    "colab": {},
    "colab_type": "code",
    "id": "gy94t1MD-oSe"
   },
   "outputs": [],
   "source": [
    "N_s = [0, 0, 0, -5.49, -3.39][channel]\n",
    "b_0 = [0, 0, 0, 5.70, 3.58][channel]\n",
    "b_1 = [0, 0, 0, -0.11187, -0.05991][channel]\n",
    "b_2 = [0, 0, 0, 0.00054668, 0.00024985][channel]\n",
    "\n",
    "N_lin = N_s + (N_bb - N_s) * (P_s - image) / (P_s - P_bb)\n",
    "N_cor = b_0 + b_1 * N_lin + b_2 * N_lin**2\n",
    "\n",
    "N_e = N_lin + N_cor"
   ]
  },
  {
   "cell_type": "code",
   "execution_count": 21,
   "metadata": {
    "colab": {},
    "colab_type": "code",
    "id": "lkskTm8lHgFJ"
   },
   "outputs": [],
   "source": [
    "T_e_eff = c2 * Vc / np.log( np.maximum(1 + c1 * Vc**3 / N_e, 0.1) )\n",
    "T_e = (T_e_eff - A) / B"
   ]
  },
  {
   "cell_type": "code",
   "execution_count": 27,
   "metadata": {
    "colab": {
     "base_uri": "https://localhost:8080/",
     "height": 255
    },
    "colab_type": "code",
    "id": "bz2RcNjzI7m2",
    "outputId": "bb3b0d8e-31ba-47db-9268-0f67acb1ee40"
   },
   "outputs": [
    {
     "name": "stdout",
     "output_type": "stream",
     "text": [
      "Массив температур:\n",
      " [[ 31.95738704  19.33399121  18.50665637 ...  55.96441895  29.67039421\n",
      "   29.67039421]\n",
      " [ 33.46388486  47.83875    -24.38247096 ...  17.67420313 -57.6512421\n",
      "   27.34898718]\n",
      " [ 57.28835632  54.63223996  43.64627549 ...  34.95647415  18.50665637\n",
      "   14.29080304]\n",
      " ...\n",
      " [ 51.26409924  33.46388486 -25.65342319 ...  14.29080304 -44.55993226\n",
      "   37.90190722]\n",
      " [ -9.39469257  28.90051533 -23.13140247 ...  15.1449421   31.19875798\n",
      "   51.26409924]\n",
      " [-18.30889549  24.99107099  21.78639797 ...  68.86884441 -49.81349751\n",
      "   59.91243792]]\n"
     ]
    }
   ],
   "source": [
    "print(\"Массив температур:\\n\", T_e-273.15)"
   ]
  }
 ],
 "metadata": {
  "colab": {
   "collapsed_sections": [],
   "name": "wav2temp.ipynb",
   "provenance": []
  },
  "kernelspec": {
   "display_name": "Python 3",
   "language": "python",
   "name": "python3"
  },
  "language_info": {
   "codemirror_mode": {
    "name": "ipython",
    "version": 3
   },
   "file_extension": ".py",
   "mimetype": "text/x-python",
   "name": "python",
   "nbconvert_exporter": "python",
   "pygments_lexer": "ipython3",
   "version": "3.6.9"
  }
 },
 "nbformat": 4,
 "nbformat_minor": 1
}
