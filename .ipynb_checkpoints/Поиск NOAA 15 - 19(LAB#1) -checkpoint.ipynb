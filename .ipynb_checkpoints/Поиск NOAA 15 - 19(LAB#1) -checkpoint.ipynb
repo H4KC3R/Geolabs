{
 "cells": [
  {
   "cell_type": "code",
   "execution_count": 3,
   "metadata": {},
   "outputs": [],
   "source": [
    "import math\n",
    "import matplotlib.pyplot as plt\n",
    "import numpy as np\n",
    "import pymap3d as pm\n",
    "import datetime\n",
    "from spacetrack import SpaceTrackClient"
   ]
  },
  {
   "cell_type": "code",
   "execution_count": null,
   "metadata": {},
   "outputs": [],
   "source": []
  },
  {
   "cell_type": "markdown",
   "metadata": {},
   "source": [
    "getting and parsing TLE data:\n",
    "https://gis-lab.info/qa/python-orbital-tracks.html"
   ]
  },
  {
   "cell_type": "code",
   "execution_count": null,
   "metadata": {},
   "outputs": [],
   "source": [
    "sat_id = {15: 25338, 16: 26536, 17: 27453, 18: 28654, 19: 33591}\n",
    "# getting TLE data #\n",
    "n = int(input(\"NOAA:\"))\n",
    "USERNAME = \"radmir-daminov@mail.ru\"\n",
    "PASSWORD = \"!9vehaNGZrVuFqj\"\n",
    "st = SpaceTrackClient(identity=USERNAME, password=PASSWORD)\n",
    "data = st.tle_latest(norad_cat_id=sat_id[n], orderby='epoch desc', limit=1, format='tle')"
   ]
  },
  {
   "cell_type": "code",
   "execution_count": null,
   "metadata": {},
   "outputs": [],
   "source": [
    "# parsing TLE data #\n",
    "i = float(data[78:86])  # Наклонение в градусах\n",
    "Ω = float(data[87:96])  # Долгота восходящего узла в градусах\n",
    "e = float(\"0.\" + data[96:103])  # Эксцентриситет\n",
    "ω = float(data[104:112])  # Аргумент перицентра в градусах\n",
    "M = float(data[113:121])  # Средняя аномалия в градусах\n",
    "n = float(data[122:133])  # Частота обращения (оборотов в день) (среднее движение) [виток/день]\n",
    "s = int(86400*float(\"0.\" + data[24:32]))\n",
    "sat_t = datetime.datetime(int(\"20\" + data[18:20]), 1, 1) + datetime.timedelta(days=int(data[20:23]) - 1) + datetime.timedelta(seconds=s)  # Время эпохи"
   ]
  },
  {
   "cell_type": "code",
   "execution_count": null,
   "metadata": {},
   "outputs": [],
   "source": [
    "def find_sat(i, Ω, e, ω, M, n, s, time, sat_t):\n",
    "    position = []\n",
    "    for elem in time:\n",
    "        Δt = (elem - sat_t).seconds / 3600 / 24\n",
    "        # средняя аномалия для выбранной даты\n",
    "        M_average = M + 360 * (n * Δt - int(n * Δt) - int((M + 360 * (n * Δt - int(n * Δt)))/360))\n",
    "        M_average = M_average * 180 / math.pi  # перевод в радианы\n",
    "        "
   ]
  }
 ],
 "metadata": {
  "kernelspec": {
   "display_name": "Python 3",
   "language": "python",
   "name": "python3"
  },
  "language_info": {
   "codemirror_mode": {
    "name": "ipython",
    "version": 3
   },
   "file_extension": ".py",
   "mimetype": "text/x-python",
   "name": "python",
   "nbconvert_exporter": "python",
   "pygments_lexer": "ipython3",
   "version": "3.6.9"
  }
 },
 "nbformat": 4,
 "nbformat_minor": 4
}
