{
 "cells": [
  {
   "cell_type": "code",
   "execution_count": 121,
   "metadata": {},
   "outputs": [],
   "source": [
    "import math\n",
    "import matplotlib.pyplot as plt\n",
    "import numpy as np\n",
    "import pymap3d as pm\n",
    "import datetime\n",
    "import pandas as pd\n",
    "from spacetrack import SpaceTrackClient\n",
    "from scipy.optimize import root"
   ]
  },
  {
   "cell_type": "code",
   "execution_count": 122,
   "metadata": {},
   "outputs": [],
   "source": [
    "def ecef2eci(x,y,z,time):\n",
    "    x_eci, y_eci, z_eci = pm.ecef2eci(x, y, z, time=time, use_astropy=True)\n",
    "    return x_eci, y_eci, z_eci "
   ]
  },
  {
   "cell_type": "code",
   "execution_count": 123,
   "metadata": {},
   "outputs": [],
   "source": [
    "def find_sat(i, Ω, e, ω, M, n, s, time, sat_t):\n",
    "    position = []\n",
    "    for elem in time:\n",
    "        Δt = (elem - sat_t).seconds / 3600 / 24\n",
    "        # средняя аномалия для выбранной даты\n",
    "        M_average = M + 360 * (n * Δt - int(n * Δt) - int((M + 360 * (n * Δt - int(n * Δt)))/360))\n",
    "        M_average = M_average * math.pi / 180  # перевод в радианы \n",
    "        # E - e sinE = M\n",
    "        E = root(lambda E: E - e * np.cos(E) - M_average, 0).x[0]\n",
    "        # находим истинную аномалию [-π;π]\n",
    "        v = 2 * np.arctan2(np.sqrt((1+e)/(1-e)) * np.tan(E/2),1)\n",
    "        v = v * 180 / math.pi  # перевод в градусы \n",
    "        # грав. параметр земли км^3/день^2\n",
    "        μ = 2.9755363405824e15\n",
    "        # большая полуось орбиты в км\n",
    "        a = np.cbrt(μ / ((2 * np.pi * n) ** 2))  \n",
    "        # растояние до перицентра в км\n",
    "        P = a * (1 - e)\n",
    "        # мгновенное геоцентрическое растояние в км\n",
    "        r = (P * (1+e)) / (1 + e * np.cos(v))\n",
    "        J_2 = 1.0826267e-3\n",
    "        a1 = a / 6378.137\n",
    "        # Вычисляем параметры которые понадобятся для учёта прецессии линии узлов и линии апсид\n",
    "        d1 = (3 * J_2 * (6378.137**2) * (3 * (np.cos(i)**2) - 1 )) / (4 * a1**2 * np.cbrt((1-e**2)**2))\n",
    "        a0 = -a1 * ((134 * d1**3/81) + d1**2 + d1/3 - 1)\n",
    "        p0 = a0 * (1 - e**2)\n",
    "        # пересчет ДВУ на момент времени\n",
    "        Ω1 = Ω + 360 * (-3*J_2*(6378.137**2)*n*np.cos(i))*Δt/(2*p0**2)\n",
    "        ω1 = ω + 360 * (-3*J_2*(6378.137**2)*n*(5*np.cos(i)**2 - 1))*Δt/(4*p0**2)\n",
    "        u = ω1 + v\n",
    "        \"\"\"\n",
    "        Плоскость орбиты КА, экваториальная плоскость и плоскость мгновенного меридиана КА образуют сферический прямоугольный треугольник (рис. 2), из которого, используя формулы сферической тригонометрии, можно определить разницу долгот Δα ‒\n",
    "        разницу между геоцентрическим прямым восхождением КА αg и долготой восходящего\n",
    "        узла α :\n",
    "        \"\"\"\n",
    "        # прямое восхождение КА\n",
    "        ω_g = ω1 + np.arccos(np.cos(u)/(np.sqrt(1-np.sin(i)**2 * np.sin(u)**2)))\n",
    "        # склонение КА\n",
    "        δ = np.sign(np.sin(u)) * np.arccos(np.cos(u)/np.cos(np.arccos(np.cos(u)/(np.sqrt(1-np.sin(i)**2 * np.sin(u)**2)))))\n",
    "        # координаты в геоцентрической экватериальной СК\n",
    "        x_sat_g = r * np.cos(ω_g) * np.cos(δ)\n",
    "        y_sat_g = r * np.sin(ω_g) * np.cos(δ)\n",
    "        z_sat_g = r * np.sin(δ)\n",
    "        position.append([x_sat_g, y_sat_g, z_sat_g])\n",
    "    return position"
   ]
  },
  {
   "cell_type": "markdown",
   "metadata": {},
   "source": [
    "getting and parsing TLE data:\n",
    "https://gis-lab.info/qa/python-orbital-tracks.html"
   ]
  },
  {
   "cell_type": "code",
   "execution_count": 124,
   "metadata": {},
   "outputs": [
    {
     "name": "stdout",
     "output_type": "stream",
     "text": [
      "NOAA:19\n"
     ]
    }
   ],
   "source": [
    "sat_id = {15: 25338, 16: 26536, 17: 27453, 18: 28654, 19: 33591}\n",
    "# getting TLE data #\n",
    "n = int(input(\"NOAA:\"))\n",
    "USERNAME = \"radmir-daminov@mail.ru\"\n",
    "PASSWORD = \"!9vehaNGZrVuFqj\"\n",
    "st = SpaceTrackClient(identity=USERNAME, password=PASSWORD)\n",
    "data = st.tle_latest(norad_cat_id=sat_id[n], orderby='epoch desc', limit=1, format='tle')"
   ]
  },
  {
   "cell_type": "code",
   "execution_count": 125,
   "metadata": {},
   "outputs": [],
   "source": [
    "start_lesson = datetime.datetime(2020, 9, 30, 15, 45)\n",
    "end_lesson = datetime.datetime(2020, 9, 30, 17, 5)\n",
    "date_generated = pd.date_range(start=start_lesson, end=end_lesson, freq='1min')"
   ]
  },
  {
   "cell_type": "code",
   "execution_count": 126,
   "metadata": {},
   "outputs": [],
   "source": [
    "# parsing TLE data #\n",
    "i = float(data[78:86])  # Наклонение в градусах\n",
    "Ω = float(data[87:96])  # Долгота восходящего узла в градусах\n",
    "e = float(\"0.\" + data[96:103])  # Эксцентриситет\n",
    "ω = float(data[104:112])  # Аргумент перицентра в градусах\n",
    "M = float(data[113:121])  # Средняя аномалия в градусах\n",
    "n = float(data[122:133])  # Частота обращения (оборотов в день) (среднее движение) [виток/день]\n",
    "s = int(86400*float(\"0.\" + data[24:32]))\n",
    "sat_t = datetime.datetime(int(\"20\" + data[18:20]), 1, 1) + datetime.timedelta(days=int(data[20:23]) - 1) + datetime.timedelta(seconds=s)  # Время эпохи"
   ]
  },
  {
   "cell_type": "markdown",
   "metadata": {},
   "source": [
    "https://en.wikipedia.org/wiki/Geographic_coordinate_conversion#From_geodetic_to_ECEF_coordinates"
   ]
  },
  {
   "cell_type": "code",
   "execution_count": 127,
   "metadata": {},
   "outputs": [],
   "source": [
    "# LK\n",
    "latitude = 55.928\n",
    "longitude = 37.521\n",
    "altitude = (195 + 50)/1000 # in km\n",
    "\n",
    "# LLA(geodetic) to ECEF #\n",
    "rad_lat = latitude * (math.pi / 180.0)\n",
    "rad_lon = longitude * (math.pi / 180.0)\n",
    "a = 6371  # equatorial radius\n",
    "b = 6356.8  # polar radius\n",
    "e2 = 1 - (b**2)/(a**2) \n",
    "N = a / np.sqrt(1 - (e * np.sin(latitude)**2))\n",
    "x = (N + altitude) * math.cos(rad_lat) * math.cos(rad_lon)\n",
    "y = (N + altitude) * math.cos(rad_lat) * math.sin(rad_lon)\n",
    "z = (N * (1 - e2) + altitude) * math.sin(rad_lat)"
   ]
  },
  {
   "cell_type": "code",
   "execution_count": 128,
   "metadata": {},
   "outputs": [],
   "source": [
    "satellite = find_sat(i, Ω, e, ω, M, n, s, date_generated, sat_t)\n",
    "thettas = []\n",
    "d = []\n",
    "elevations = []\n",
    "for i in range(len(satellite)):\n",
    "    r = []\n",
    "    x,y,z = ecef2eci(x,y,z,date_generated[i])\n",
    "    r.append(satellite[i][0] - x)\n",
    "    r.append(satellite[i][0] - y)\n",
    "    r.append(satellite[i][0] - z)\n",
    "    distance = np.linalg.norm(r)\n",
    "    Z = np.arccos((r[0]/distance * np.cos(rad_lat) * np.cos(rad_lon)) + (r[1]/distance * np.cos(rad_lat) * np.sin(rad_lon)) + (r[2]/distance * np.sin(rad_lat)))\n",
    "    Z = Z * 180/math.pi\n",
    "    elevation = 90 - Z\n",
    "    arg1 = -r[0]/distance * np.sin(rad_lon) + r[1]/distance * np.cos(rad_lon)\n",
    "    arg2 = (-r[0]/distance * np.sin(rad_lat) * np.cos(rad_lon)) - (r[1]/distance * np.sin(rad_lat) * np.sin(rad_lon)) + (r[2]/distance * np.cos(rad_lat))\n",
    "    azimuth = np.arctan2(arg1,arg2)\n",
    "    azimuth = azimuth * 180/math.pi\n",
    "    thettas.append(azimuth)\n",
    "    d.append(distance)\n",
    "    elevations.append(elevation)"
   ]
  },
  {
   "cell_type": "code",
   "execution_count": 129,
   "metadata": {},
   "outputs": [
    {
     "data": {
      "image/png": "[encoded data removed]",
      "text/plain": [
       "<Figure size 432x288 with 1 Axes>"
      ]
     },
     "metadata": {
      "needs_background": "light"
     },
     "output_type": "display_data"
    }
   ],
   "source": [
    "fig = plt.figure()\n",
    "ax = fig.add_subplot(111, projection='polar')\n",
    "c = ax.scatter(thettas, d, alpha=0.75)"
   ]
  },
  {
   "cell_type": "code",
   "execution_count": 130,
   "metadata": {},
   "outputs": [],
   "source": [
    "edge = 10 #deg\n",
    "for i in range(len(satellite)):\n",
    "    if elevations[i] <= edge and d[i] <= 200 :\n",
    "        print(date_generated[i])"
   ]
  }
 ],
 "metadata": {
  "kernelspec": {
   "display_name": "Python 3",
   "language": "python",
   "name": "python3"
  },
  "language_info": {
   "codemirror_mode": {
    "name": "ipython",
    "version": 3
   },
   "file_extension": ".py",
   "mimetype": "text/x-python",
   "name": "python",
   "nbconvert_exporter": "python",
   "pygments_lexer": "ipython3",
   "version": "3.6.9"
  }
 },
 "nbformat": 4,
 "nbformat_minor": 4
}
