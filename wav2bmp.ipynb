{
 "cells": [
  {
   "cell_type": "code",
   "execution_count": 1,
   "metadata": {
    "colab": {},
    "colab_type": "code",
    "id": "i8RVimGa-Od9"
   },
   "outputs": [],
   "source": [
    "# !git clone https://github.com/zacstewart/apt-decoder\n",
    "# !python3 /content/apt-decoder/resample.py \"/content/drive/My Drive/Lab/19000020.WAV\" out.wav\n",
    "# !python3 /content/apt-decoder/apt.py out.wav out.png"
   ]
  },
  {
   "cell_type": "code",
   "execution_count": 14,
   "metadata": {
    "colab": {},
    "colab_type": "code",
    "id": "cF7hTPu0T7Be"
   },
   "outputs": [],
   "source": [
    "import sys\n",
    "import scipy.io.wavfile\n",
    "import scipy.signal\n",
    "import PIL\n",
    "import numpy"
   ]
  },
  {
   "cell_type": "code",
   "execution_count": 15,
   "metadata": {
    "colab": {},
    "colab_type": "code",
    "id": "Ylt8ykagUZEP"
   },
   "outputs": [],
   "source": [
    "class APT(object):\n",
    "\n",
    "    RATE = 20800\n",
    "    NOAA_LINE_LENGTH = 2080\n",
    "\n",
    "    def __init__(self, filename):\n",
    "        (rate, self.signal) = scipy.io.wavfile.read(filename)\n",
    "        if rate != self.RATE:\n",
    "            coef = self.RATE / rate\n",
    "            samples = int(coef * len(self.signal))\n",
    "            self.signal = scipy.signal.resample(self.signal, samples)\n",
    "            \n",
    "        # Keep only one channel if audio is stereo\n",
    "        if self.signal.ndim > 1:\n",
    "            self.signal = self.signal[:, 0]\n",
    "\n",
    "        truncate = self.RATE * int(len(self.signal) // self.RATE)\n",
    "        self.signal = self.signal[:truncate]\n",
    "\n",
    "    def decode(self, outfile=None):\n",
    "        hilbert = scipy.signal.hilbert(self.signal)\n",
    "        filtered = scipy.signal.medfilt(numpy.abs(hilbert), 5)\n",
    "        reshaped = filtered.reshape(len(filtered) // 5, 5)\n",
    "        digitized = self._digitize(reshaped[:, 2])\n",
    "        matrix = self._reshape(digitized)\n",
    "        image = PIL.Image.fromarray(matrix)\n",
    "        if not outfile is None:\n",
    "            image.save(outfile)\n",
    "        image.show()\n",
    "        return matrix\n",
    "\n",
    "    def _digitize(self, signal, plow=0.5, phigh=99.5):\n",
    "        '''\n",
    "        Convert signal to numbers between 0 and 255.\n",
    "        '''\n",
    "        (low, high) = numpy.percentile(signal, (plow, phigh))\n",
    "        delta = high - low\n",
    "        data = numpy.round(255 * (signal - low) / delta)\n",
    "        data[data < 0] = 0\n",
    "        data[data > 255] = 255\n",
    "        return data.astype(numpy.uint8)\n",
    "\n",
    "    def _reshape(self, signal):\n",
    "        '''\n",
    "        Find sync frames and reshape the 1D signal into a 2D image.\n",
    "\n",
    "        Finds the sync A frame by looking at the maximum values of the cross\n",
    "        correlation between the signal and a hardcoded sync A frame.\n",
    "\n",
    "        The expected distance between sync A frames is 2080 samples, but with\n",
    "        small variations because of Doppler effect.\n",
    "        '''\n",
    "        # sync frame to find: seven impulses and some black pixels (some lines\n",
    "        # have something like 8 black pixels and then white ones)\n",
    "        syncA = [0, 128, 255, 128]*7 + [0]*7\n",
    "\n",
    "        # list of maximum correlations found: (index, value)\n",
    "        peaks = [(0, 0)]\n",
    "\n",
    "        # minimum distance between peaks\n",
    "        mindistance = 2000\n",
    "\n",
    "        # need to shift the values down to get meaningful correlation values\n",
    "        signalshifted = [x-128 for x in signal]\n",
    "        syncA = [x-128 for x in syncA]\n",
    "        for i in range(len(signal)-len(syncA)):\n",
    "            corr = numpy.dot(syncA, signalshifted[i : i+len(syncA)])\n",
    "\n",
    "            # if previous peak is too far, keep it and add this value to the\n",
    "            # list as a new peak\n",
    "            if i - peaks[-1][0] > mindistance:\n",
    "                peaks.append((i, corr))\n",
    "\n",
    "            # else if this value is bigger than the previous maximum, set this\n",
    "            # one\n",
    "            elif corr > peaks[-1][1]:\n",
    "                peaks[-1] = (i, corr)\n",
    "\n",
    "        # create image matrix starting each line on the peaks found\n",
    "        matrix = []\n",
    "        for i in range(len(peaks) - 1):\n",
    "            matrix.append(signal[peaks[i][0] : peaks[i][0] + 2080])\n",
    "\n",
    "        return numpy.array(matrix)\n"
   ]
  },
  {
   "cell_type": "code",
   "execution_count": 16,
   "metadata": {
    "colab": {
     "base_uri": "https://localhost:8080/",
     "height": 71
    },
    "colab_type": "code",
    "id": "1Q0Wls1OUpby",
    "outputId": "e2192fb2-331c-4d67-edfd-03df5e2ec7bc"
   },
   "outputs": [
    {
     "name": "stderr",
     "output_type": "stream",
     "text": [
      "/home/cernmadworker/.local/lib/python3.6/site-packages/ipykernel_launcher.py:7: WavFileWarning: Reached EOF prematurely; finished at 14860332 bytes, expected 14860337 bytes from header.\n",
      "  import sys\n"
     ]
    }
   ],
   "source": [
    "apt = APT('19000020.wav')"
   ]
  },
  {
   "cell_type": "code",
   "execution_count": 17,
   "metadata": {
    "colab": {},
    "colab_type": "code",
    "id": "h_yfFeT_U1bg"
   },
   "outputs": [
    {
     "ename": "AttributeError",
     "evalue": "module 'PIL' has no attribute 'Image'",
     "output_type": "error",
     "traceback": [
      "\u001b[0;31m----------------------------------------------------------\u001b[0m",
      "\u001b[0;31mAttributeError\u001b[0m           Traceback (most recent call last)",
      "\u001b[0;32m<ipython-input-17-1115bc6f4cb7>\u001b[0m in \u001b[0;36m<module>\u001b[0;34m\u001b[0m\n\u001b[0;32m----> 1\u001b[0;31m \u001b[0mimage\u001b[0m \u001b[0;34m=\u001b[0m \u001b[0mapt\u001b[0m\u001b[0;34m.\u001b[0m\u001b[0mdecode\u001b[0m\u001b[0;34m(\u001b[0m\u001b[0;34m'data.png'\u001b[0m\u001b[0;34m)\u001b[0m\u001b[0;34m\u001b[0m\u001b[0;34m\u001b[0m\u001b[0m\n\u001b[0m",
      "\u001b[0;32m<ipython-input-15-d1a8b364882f>\u001b[0m in \u001b[0;36mdecode\u001b[0;34m(self, outfile)\u001b[0m\n\u001b[1;32m     24\u001b[0m         \u001b[0mdigitized\u001b[0m \u001b[0;34m=\u001b[0m \u001b[0mself\u001b[0m\u001b[0;34m.\u001b[0m\u001b[0m_digitize\u001b[0m\u001b[0;34m(\u001b[0m\u001b[0mreshaped\u001b[0m\u001b[0;34m[\u001b[0m\u001b[0;34m:\u001b[0m\u001b[0;34m,\u001b[0m \u001b[0;36m2\u001b[0m\u001b[0;34m]\u001b[0m\u001b[0;34m)\u001b[0m\u001b[0;34m\u001b[0m\u001b[0;34m\u001b[0m\u001b[0m\n\u001b[1;32m     25\u001b[0m         \u001b[0mmatrix\u001b[0m \u001b[0;34m=\u001b[0m \u001b[0mself\u001b[0m\u001b[0;34m.\u001b[0m\u001b[0m_reshape\u001b[0m\u001b[0;34m(\u001b[0m\u001b[0mdigitized\u001b[0m\u001b[0;34m)\u001b[0m\u001b[0;34m\u001b[0m\u001b[0;34m\u001b[0m\u001b[0m\n\u001b[0;32m---> 26\u001b[0;31m         \u001b[0mimage\u001b[0m \u001b[0;34m=\u001b[0m \u001b[0mPIL\u001b[0m\u001b[0;34m.\u001b[0m\u001b[0mImage\u001b[0m\u001b[0;34m.\u001b[0m\u001b[0mfromarray\u001b[0m\u001b[0;34m(\u001b[0m\u001b[0mmatrix\u001b[0m\u001b[0;34m)\u001b[0m\u001b[0;34m\u001b[0m\u001b[0;34m\u001b[0m\u001b[0m\n\u001b[0m\u001b[1;32m     27\u001b[0m         \u001b[0;32mif\u001b[0m \u001b[0;32mnot\u001b[0m \u001b[0moutfile\u001b[0m \u001b[0;32mis\u001b[0m \u001b[0;32mNone\u001b[0m\u001b[0;34m:\u001b[0m\u001b[0;34m\u001b[0m\u001b[0;34m\u001b[0m\u001b[0m\n\u001b[1;32m     28\u001b[0m             \u001b[0mimage\u001b[0m\u001b[0;34m.\u001b[0m\u001b[0msave\u001b[0m\u001b[0;34m(\u001b[0m\u001b[0moutfile\u001b[0m\u001b[0;34m)\u001b[0m\u001b[0;34m\u001b[0m\u001b[0;34m\u001b[0m\u001b[0m\n",
      "\u001b[0;31mAttributeError\u001b[0m: module 'PIL' has no attribute 'Image'"
     ]
    }
   ],
   "source": [
    "image = apt.decode('data.png')"
   ]
  },
  {
   "cell_type": "code",
   "execution_count": 118,
   "metadata": {
    "colab": {},
    "colab_type": "code",
    "id": "C10SpX93u8sE"
   },
   "outputs": [],
   "source": [
    "n = 350 - 8 * 8\n",
    "s = image[n:n+8*16, 1040+1000:1040+1035]\n",
    "imageqq = PIL.Image.fromarray(s)\n",
    "imageqq.save('out.png')"
   ]
  },
  {
   "cell_type": "code",
   "execution_count": 119,
   "metadata": {
    "colab": {
     "base_uri": "https://localhost:8080/",
     "height": 85
    },
    "colab_type": "code",
    "id": "FcBsHe-3vk9K",
    "outputId": "5a942b63-6554-469f-fc80-942efcb9f00b"
   },
   "outputs": [
    {
     "data": {
      "text/plain": [
       "array([ 52.32857143,  97.825     , 138.47142857, 174.21071429,\n",
       "       203.65357143, 230.22142857, 247.775     , 252.53571429,\n",
       "        10.61428571,  96.49642857, 100.04285714,  97.18928571,\n",
       "       100.12142857, 173.92857143, 167.01428571, 178.83214286])"
      ]
     },
     "execution_count": 119,
     "metadata": {
      "tags": []
     },
     "output_type": "execute_result"
    }
   ],
   "source": [
    "s1 = s.mean(axis=1)\n",
    "l = s1.reshape(-1, 8).mean(axis=1)\n",
    "l"
   ]
  },
  {
   "cell_type": "code",
   "execution_count": 133,
   "metadata": {
    "colab": {
     "base_uri": "https://localhost:8080/",
     "height": 68
    },
    "colab_type": "code",
    "id": "3iDMZ1slxMoj",
    "outputId": "a6464c01-3f48-4c42-c387-eab81e717a27"
   },
   "outputs": [
    {
     "data": {
      "text/plain": [
       "(167.0142857142857,\n",
       " array([ 96.49642857, 100.04285714,  97.18928571, 100.12142857]),\n",
       " 98.46249999999999)"
      ]
     },
     "execution_count": 133,
     "metadata": {
      "tags": []
     },
     "output_type": "execute_result"
    }
   ],
   "source": [
    "P_pls = l[9:13]\n",
    "P_acht = l[14]\n",
    "P_pl = P_pls.mean()\n",
    "\n",
    "P_acht, P_pls, P_pl"
   ]
  },
  {
   "cell_type": "code",
   "execution_count": 134,
   "metadata": {
    "colab": {
     "base_uri": "https://localhost:8080/",
     "height": 34
    },
    "colab_type": "code",
    "id": "UJNGD3lXzfUE",
    "outputId": "70f9a2a4-f757-4768-d6f7-a2d614b2926d"
   },
   "outputs": [
    {
     "data": {
      "text/plain": [
       "289.9176520496561"
      ]
     },
     "execution_count": 134,
     "metadata": {
      "tags": []
     },
     "output_type": "execute_result"
    }
   ],
   "source": [
    "T_2 = 289.9\n",
    "T_3 = 296.6\n",
    "\n",
    "P_2 = l[1]\n",
    "P_3 = l[2]\n",
    "\n",
    "T_pls = T_3 - (T_3 - T_2) * (P_pl - I_3) / (I_2 - I_3)\n",
    "T_pl = T_pls.mean()\n",
    "T_pl"
   ]
  },
  {
   "cell_type": "code",
   "execution_count": 135,
   "metadata": {
    "colab": {},
    "colab_type": "code",
    "id": "tcIvARreAN8Y"
   },
   "outputs": [],
   "source": [
    "I_acht = -1.151\n",
    "\n",
    "I_pl = 96.15218849"
   ]
  },
  {
   "cell_type": "code",
   "execution_count": 136,
   "metadata": {
    "colab": {},
    "colab_type": "code",
    "id": "90C_isOB11YE"
   },
   "outputs": [],
   "source": [
    "k = (I_acht - I_pl) / (P_acht - P_pl)\n",
    "b = I_acht - k * P_acht"
   ]
  },
  {
   "cell_type": "code",
   "execution_count": 137,
   "metadata": {
    "colab": {},
    "colab_type": "code",
    "id": "8TVV5h5A2O4A"
   },
   "outputs": [],
   "source": [
    "I = k * image + b"
   ]
  },
  {
   "cell_type": "code",
   "execution_count": 138,
   "metadata": {
    "colab": {
     "base_uri": "https://localhost:8080/",
     "height": 238
    },
    "colab_type": "code",
    "id": "LhrryCWX2Tzc",
    "outputId": "d49f6803-7818-4208-e8ee-ee3a9b229c47"
   },
   "outputs": [
    {
     "data": {
      "text/plain": [
       "array([[136.55218644, 113.84160349, 112.42219206, ..., 184.81217521,\n",
       "        132.29395214, 132.29395214],\n",
       "       [139.39100931, 167.779238  ,  51.38750038, ..., 111.00278062,\n",
       "         21.57986026, 128.03571783],\n",
       "       [187.65099808, 181.97335234, 159.26276939, ..., 142.22983218,\n",
       "        112.42219206, 105.32513488],\n",
       "       ...,\n",
       "       [174.87629517, 139.39100931,  49.96808894, ..., 105.32513488,\n",
       "         31.5157403 , 147.90747792],\n",
       "       [ 69.83984903, 130.8745407 ,  52.80691181, ..., 106.74454632,\n",
       "        135.13277501, 174.87629517],\n",
       "       [ 58.48455755, 123.77748353, 118.09983779, ..., 213.2004039 ,\n",
       "         27.25750599, 193.32864382]])"
      ]
     },
     "execution_count": 138,
     "metadata": {
      "tags": []
     },
     "output_type": "execute_result"
    }
   ],
   "source": [
    "c1 = 1.19104e-5\n",
    "c2 = 1.4387752\n",
    "Vc = 928.9\n",
    "\n",
    "A = 0.53959\n",
    "B = 0.998534\n",
    "\n",
    "# T = c2 * Vc / numpy.ln(1 + )"
   ]
  },
  {
   "cell_type": "code",
   "execution_count": null,
   "metadata": {
    "colab": {},
    "colab_type": "code",
    "id": "RqNPwzh1N_Q-"
   },
   "outputs": [],
   "source": []
  }
 ],
 "metadata": {
  "colab": {
   "collapsed_sections": [],
   "name": "wav2bmp.ipynb",
   "provenance": []
  },
  "kernelspec": {
   "display_name": "Python 3",
   "language": "python",
   "name": "python3"
  },
  "language_info": {
   "codemirror_mode": {
    "name": "ipython",
    "version": 3
   },
   "file_extension": ".py",
   "mimetype": "text/x-python",
   "name": "python",
   "nbconvert_exporter": "python",
   "pygments_lexer": "ipython3",
   "version": "3.6.9"
  }
 },
 "nbformat": 4,
 "nbformat_minor": 1
}
